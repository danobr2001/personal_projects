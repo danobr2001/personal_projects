{
 "cells": [
  {
   "cell_type": "markdown",
   "id": "45873299",
   "metadata": {},
   "source": [
    "# Simulating the Monty Hall Problem"
   ]
  },
  {
   "cell_type": "code",
   "execution_count": 1,
   "id": "780a225b",
   "metadata": {},
   "outputs": [],
   "source": [
    "import random"
   ]
  },
  {
   "cell_type": "markdown",
   "id": "c442e263",
   "metadata": {},
   "source": [
    "Make class that plays the game once:\n",
    "1. Create three doors (1, 2, 3) - one of them will be \"correct\"\n",
    "    * Create dictionary with keys 1,2,3 and one random entry being \"car\" (for correct) and the others being \"goat\" for incorrect\n",
    "2. Choose between door (1, 2, 3)\n",
    "    * Use second readom number generator to choose a door\n",
    "3. Reveal the unchosen and incorrect door\n",
    "4. Either switch or don't\n",
    "5. Record switch\n",
    "6. Reveal correct door and record whether or not guess was correct"
   ]
  },
  {
   "cell_type": "code",
   "execution_count": 70,
   "id": "ab6199cd",
   "metadata": {},
   "outputs": [
    {
     "name": "stdout",
     "output_type": "stream",
     "text": [
      "Congratulations you've won a new car!\n"
     ]
    }
   ],
   "source": [
    "doors = {1:0, 2:0, 3:0}\n",
    "car = random.randint(1,3)\n",
    "doors[car] = 1\n",
    "guess = random.randint(1,3)\n",
    "### If player stays with guess\n",
    "if guess == car:\n",
    "    print(\"Congratulations you've won a new car!\")\n",
    "else:\n",
    "    print(\"Better luck next time.\")"
   ]
  },
  {
   "cell_type": "code",
   "execution_count": 71,
   "id": "a928b9c7",
   "metadata": {},
   "outputs": [],
   "source": [
    "doors = {1:0, 2:0, 3:0}\n",
    "doors[2] = 1\n"
   ]
  },
  {
   "cell_type": "code",
   "execution_count": 72,
   "id": "ac1c907c",
   "metadata": {},
   "outputs": [
    {
     "data": {
      "text/plain": [
       "<__main__.montyhall at 0x7f9198c0bfd0>"
      ]
     },
     "execution_count": 72,
     "metadata": {},
     "output_type": "execute_result"
    }
   ],
   "source": [
    "class montyhall:\n",
    "    \"\"\"This class has the basic rules of the Monty Hall game\"\"\"\n",
    "    \n",
    "    doors = {1:0, 2:0, 3:0}\n",
    "    \n",
    "    def __init__(self, guess, change):\n",
    "        self.guess = guess\n",
    "        self.change = change\n",
    "        \n",
    "    def play(self):\n",
    "        car = random.randint(1,3)\n",
    "        doors[car] = 1\n",
    "        \n",
    "        if self.change == False:\n",
    "            if self.guess == car:\n",
    "                return True\n",
    "            else:\n",
    "                return False\n",
    "            \n",
    "        else:\n",
    "            if self.guess == car:\n",
    "                return False\n",
    "            else:\n",
    "                return True\n",
    "    def __str__(self, )\n",
    "            \n"
   ]
  }
 ],
 "metadata": {
  "kernelspec": {
   "display_name": "Python 3 (ipykernel)",
   "language": "python",
   "name": "python3"
  },
  "language_info": {
   "codemirror_mode": {
    "name": "ipython",
    "version": 3
   },
   "file_extension": ".py",
   "mimetype": "text/x-python",
   "name": "python",
   "nbconvert_exporter": "python",
   "pygments_lexer": "ipython3",
   "version": "3.9.7"
  }
 },
 "nbformat": 4,
 "nbformat_minor": 5
}
