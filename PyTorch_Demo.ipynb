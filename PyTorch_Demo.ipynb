{
 "cells": [
  {
   "cell_type": "code",
   "execution_count": 1,
   "id": "7c2633dd",
   "metadata": {},
   "outputs": [],
   "source": [
    "import torch\n",
    "import torch.nn as nn\n",
    "import torch.optim as optim\n",
    "import torchvision.transforms as transforms\n",
    "from torchvision import datasets\n",
    "from torch.utils.data import DataLoader"
   ]
  },
  {
   "cell_type": "markdown",
   "id": "c521dffc",
   "metadata": {},
   "source": [
    "## Handwritten Numerical Digit Classification\n",
    "\n",
    "For this demonstration, we will be using a pre-loaded dataset in torchvision called MNIST. This is a large database of labeled handwritten digits. We will build a Nueral Network using PyTorch that will classify these hadwritting images."
   ]
  },
  {
   "cell_type": "code",
   "execution_count": 2,
   "id": "df261e71",
   "metadata": {},
   "outputs": [],
   "source": [
    "# Importing our MNIST Data:\n",
    "\n",
    "# Define a transform to normalize the data\n",
    "transform = transforms.Compose([\n",
    "    transforms.ToTensor(),  # Convert images to tensors\n",
    "    transforms.Normalize((0.5,), (0.5,))  # Normalize the pixel values to [-1, 1]\n",
    "])\n",
    "\n",
    "# Download and load the training set\n",
    "trainset = datasets.MNIST('~/.pytorch/MNIST_data/', download=True, train=True, transform=transform)\n",
    "trainloader = torch.utils.data.DataLoader(trainset, batch_size=64, shuffle=True)\n",
    "\n",
    "# Download and load the test set\n",
    "testset = datasets.MNIST('~/.pytorch/MNIST_data/', download=True, train=False, transform=transform)\n",
    "testloader = torch.utils.data.DataLoader(testset, batch_size=64, shuffle=False)"
   ]
  },
  {
   "cell_type": "markdown",
   "id": "d21464fb",
   "metadata": {},
   "source": [
    "This is the basic structure of the Neural Network. Each image is 28x28 pixels, so our input layer must be 28x28. I created an input layer, a hidden layer, and an output layer. The output layer must have 10 classes, as there are 10 possible classifications"
   ]
  },
  {
   "cell_type": "code",
   "execution_count": 3,
   "id": "a7b51246",
   "metadata": {},
   "outputs": [],
   "source": [
    "class SimpleNN(nn.Module):\n",
    "    def __init__(self):\n",
    "        super(SimpleNN, self).__init__()\n",
    "        self.p1 = nn.Linear(28*28, 128)  # (28*28 pixels -> 128 nodes in hidden layer)\n",
    "        self.p2 = nn.Linear(128, 10)     # (128 nodes -> 10 nodes)\n",
    "\n",
    "    def forward(self, x):\n",
    "        x = torch.flatten(x, 1)  # Flatten the input images\n",
    "        x = torch.relu(self.p1(x))  # Apply ReLU activation to hidden layer\n",
    "        x = self.p2(x)  # Output layer\n",
    "        return x\n"
   ]
  },
  {
   "cell_type": "code",
   "execution_count": 4,
   "id": "5f524557",
   "metadata": {},
   "outputs": [
    {
     "name": "stdout",
     "output_type": "stream",
     "text": [
      "Epoch 1/4, Loss: 0.4438566872830203\n",
      "Epoch 2/4, Loss: 0.23481655820235134\n",
      "Epoch 3/4, Loss: 0.17642708073086194\n",
      "Epoch 4/4, Loss: 0.14266741420946585\n",
      "Training finished!\n"
     ]
    }
   ],
   "source": [
    "# Initialize the model, loss function, and optimizer\n",
    "model = SimpleNN()\n",
    "criterion = nn.CrossEntropyLoss()\n",
    "optimizer = optim.SGD(model.parameters(), lr=0.05)\n",
    "\n",
    "# Train the model\n",
    "epochs = 4\n",
    "for epoch in range(epochs):\n",
    "    running_loss = 0.0\n",
    "    for images, labels in trainloader:\n",
    "        optimizer.zero_grad()\n",
    "        outputs = model(images)\n",
    "        loss = criterion(outputs, labels)\n",
    "        loss.backward()\n",
    "        optimizer.step()\n",
    "        running_loss += loss.item()\n",
    "    print(f\"Epoch {epoch+1}/{epochs}, Loss: {running_loss/len(trainloader)}\")\n",
    "\n",
    "print(\"Training finished!\")\n",
    "\n",
    "# Save the trained model\n",
    "torch.save(model.state_dict(), \"simple_nn_model.pth\")"
   ]
  },
  {
   "cell_type": "code",
   "execution_count": 5,
   "id": "e9725266",
   "metadata": {},
   "outputs": [
    {
     "name": "stdout",
     "output_type": "stream",
     "text": [
      "Accuracy on the test set: 95.70%\n"
     ]
    }
   ],
   "source": [
    "# Evaluate the model\n",
    "correct = 0\n",
    "total = 0\n",
    "with torch.no_grad():\n",
    "    for images, labels in testloader:\n",
    "        outputs = model(images)\n",
    "        _, predicted = torch.max(outputs.data, 1)\n",
    "        total += labels.size(0)\n",
    "        correct += (predicted == labels).sum().item()\n",
    "\n",
    "accuracy = correct / total\n",
    "print(f\"Accuracy on the test set: {100 * accuracy:.2f}%\")"
   ]
  }
 ],
 "metadata": {
  "kernelspec": {
   "display_name": "Python 3 (ipykernel)",
   "language": "python",
   "name": "python3"
  },
  "language_info": {
   "codemirror_mode": {
    "name": "ipython",
    "version": 3
   },
   "file_extension": ".py",
   "mimetype": "text/x-python",
   "name": "python",
   "nbconvert_exporter": "python",
   "pygments_lexer": "ipython3",
   "version": "3.9.7"
  }
 },
 "nbformat": 4,
 "nbformat_minor": 5
}
